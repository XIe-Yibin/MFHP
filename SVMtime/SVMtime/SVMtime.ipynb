{
 "cells": [
  {
   "attachments": {},
   "cell_type": "markdown",
   "metadata": {},
   "source": [
    "# SVM 控制线计算时间"
   ]
  },
  {
   "cell_type": "code",
   "execution_count": 1,
   "metadata": {},
   "outputs": [],
   "source": [
    "import sys\n",
    "sys.path.append(\"..\")\n",
    "\n",
    "import numpy as np\n",
    "import pandas as pd\n",
    "import matplotlib.pyplot as plt\n",
    "from sklearn.datasets import make_classification, load_iris\n",
    "from sklearn.model_selection import train_test_split\n",
    "from core.svm_smo_classifier import SVMClassifier\n",
    "from sklearn.metrics import classification_report\n",
    "\n",
    "import os\n",
    "from scipy import stats\n",
    "import time\n",
    "from sklearn.svm import SVC\n",
    " \n",
    "from core.svm_smo_classifier import SVMClassifier"
   ]
  },
  {
   "cell_type": "code",
   "execution_count": null,
   "metadata": {},
   "outputs": [],
   "source": [
    "# !ipyparallel并行计算准备\n",
    "import ipyparallel as ipp\n",
    "c = ipp.Client()\n",
    "print(\"Connected engines:\", c.ids)  # ! 需要先在在控制台启动引擎 ipcluster start -n 10\n",
    "dview = c[:]\n",
    "dview.push({\n",
    "    'SVMClassifier': SVMClassifier\n",
    "})\n",
    "dview.execute('import numpy as np')\n",
    "dview.execute('import pandas as pd')\n",
    "dview.execute('from sklearn.svm import SVC')\n",
    "dview.execute('import os')\n",
    "dview.execute('from scipy import stats')\n",
    "dview.execute('import time')"
   ]
  },
  {
   "cell_type": "markdown",
   "metadata": {},
   "source": [
    "生成数据和对应高斯核"
   ]
  },
  {
   "cell_type": "code",
   "execution_count": 4,
   "metadata": {},
   "outputs": [
    {
     "name": "stdout",
     "output_type": "stream",
     "text": [
      "(8, 11)\n",
      "(8, 8)\n"
     ]
    }
   ],
   "source": [
    "## 生成多元正太分布的虚拟数据(加标签)\n",
    "def NormalData(dim, pnum, nnum, ab=0):\n",
    "    ## 正样本\n",
    "    pmean = np.zeros(dim)  # 均值\n",
    "    ppoints = np.random.multivariate_normal(\n",
    "        mean=pmean, cov=np.eye(dim), size=pnum\n",
    "    )\n",
    "    ppoints = np.concatenate((ppoints, np.ones((pnum, 1))), axis=1)  # 添加标签1  shape:(pnum, dim+1)\n",
    "\n",
    "    ## 负样本\n",
    "    nmean = pmean.copy()\n",
    "    nmean[0] = ab\n",
    "    npoints = np.random.multivariate_normal(\n",
    "        mean=nmean, cov= np.eye(dim), size=nnum\n",
    "    )\n",
    "\n",
    "    npoints = np.concatenate((npoints, -np.ones((nnum, 1))), axis=1)  # 添加标签-1 shape:(nnum, dim+1)\n",
    "    \n",
    "    ## 总样本\n",
    "    points = np.concatenate((ppoints, npoints), axis=0) #shape:(pnum+nnum,dim+1)\n",
    "\n",
    "    return points\n",
    "\n",
    "\n",
    "## 生成高斯核矩阵\n",
    "def Gaussian(x, gamma):\n",
    "    n_samples = np.shape(x)[0]\n",
    "    kernel = np.zeros((n_samples, n_samples))\n",
    "    for i in range(n_samples):\n",
    "        for j in range(n_samples):\n",
    "            diff = x[i, :] - x[j, :]\n",
    "            kernel[i, j] = np.exp(-np.linalg.norm(diff)**2 / (2 * gamma**2))\n",
    "    return kernel\n",
    "\n",
    "\n",
    "## test\n",
    "if __name__ == '__main__':\n",
    "    dview.push({\n",
    "    'NormalData': NormalData,\n",
    "    'Gaussian': Gaussian\n",
    "    })\n",
    "    pnum,nnum,dim = 5, 3, 10\n",
    "    dataset = NormalData(dim=dim, pnum=pnum, nnum=nnum)\n",
    "    print(dataset.shape)\n",
    "    kernel_matrix  = Gaussian(dataset,1) # 高斯核矩阵\n",
    "    print(kernel_matrix.shape)\n"
   ]
  },
  {
   "cell_type": "markdown",
   "metadata": {},
   "source": [
    "评估SVM训练时间"
   ]
  },
  {
   "cell_type": "code",
   "execution_count": 51,
   "metadata": {},
   "outputs": [],
   "source": [
    "# SVM训练和评估函数\n",
    "def run_svm_experiment(test_num, dim, pnum, nnum, use_precomputed_kernel):\n",
    "    times = []\n",
    "    \n",
    "    for num in range(test_num):\n",
    "        # 生成数据\n",
    "        dataset = NormalData(dim=dim, pnum=pnum, nnum=nnum)\n",
    "        X = dataset[:, :dim]\n",
    "        y = np.append(np.ones(pnum), -np.ones(nnum))\n",
    "\n",
    "        if use_precomputed_kernel:\n",
    "            # 使用预计算核\n",
    "            kernel = Gaussian(X, gamma=1.0)\n",
    "            svm_model = SVC(kernel='precomputed', C=1.0, max_iter=80, tol=1e-4, shrinking=True)\n",
    "        else:\n",
    "            # 使用标准RBF核\n",
    "            kernel = X\n",
    "            svm_model = SVC(C=1.0, kernel='rbf', gamma=1.0, max_iter=80, tol=1e-4, shrinking=True, cache_size=0.1)\n",
    "\n",
    "        start = time.perf_counter()\n",
    "        svm_model.fit(kernel, y)\n",
    "        end = time.perf_counter()\n",
    "\n",
    "        times.append({\n",
    "            \"experiment_num\": num + 1,\n",
    "            \"dimension\": dim,\n",
    "            \"total_samples\": pnum + nnum,\n",
    "            \"time\": end - start,\n",
    "            \"iterations\": svm_model.n_iter_\n",
    "        })\n",
    "\n",
    "    return times\n",
    "\n",
    "\n",
    "\n",
    "if __name__ == '__main__':\n",
    "    dview.push({\n",
    "        'run_svm_experiment': run_svm_experiment\n",
    "    })\n",
    "\n",
    "    # 参数设置\n",
    "    K, R = 1000, 1000\n",
    "    total_num = K * R   # 实验次数\n",
    "\n",
    "    dim_list = [1, 10, 100, 1000]\n",
    "    ref_size_list = [5, 25, 50]\n",
    "    win_size_list = [5, 25, 50]\n",
    "\n",
    "    # 将需要并行执行的任务放入列表\n",
    "    tasks = []\n",
    "    for dim in dim_list:\n",
    "        for pnum, nnum in zip(ref_size_list, win_size_list):\n",
    "            tasks.append((total_num, dim, pnum, nnum, True))\n",
    "\n",
    "    # 并行执行任务\n",
    "    async_results = dview.map_async(lambda t: run_svm_experiment(*t), tasks)\n",
    "    results = async_results.get()\n",
    "\n",
    "    # 扁平化结果\n",
    "    flat_results = [item for sublist in results for item in sublist]\n",
    "\n",
    "    # 收集结果并打印\n",
    "    df_with_cache = pd.DataFrame(flat_results)\n",
    "    # print(\"Results with cache:\\n\", df_with_cache)\n",
    "\n",
    "\n",
    "    # 重复相同的过程用于没有缓存的实验\n",
    "    tasks = []\n",
    "    for dim in dim_list:\n",
    "        for pnum, nnum in zip(ref_size_list, win_size_list):\n",
    "            tasks.append((total_num, dim, pnum, nnum, False))\n",
    "\n",
    "    # 并行执行任务\n",
    "    async_results = dview.map_async(lambda t: run_svm_experiment(*t), tasks)\n",
    "    results = async_results.get()\n",
    "\n",
    "    # 扁平化结果\n",
    "    flat_results = [item for sublist in results for item in sublist]\n",
    "\n",
    "    # 收集结果并打印\n",
    "    df_without_cache = pd.DataFrame(flat_results)\n",
    "    # print(\"Results without cache:\\n\", df_without_cache)\n"
   ]
  },
  {
   "cell_type": "markdown",
   "metadata": {},
   "source": [
    "计算平均耗时"
   ]
  },
  {
   "cell_type": "code",
   "execution_count": null,
   "metadata": {},
   "outputs": [],
   "source": [
    "def calculate_average_times(df_without_cache, df_with_cache):\n",
    "    # 将两个 DataFrame 合并，以便能够同时处理它们\n",
    "    df_without_cache['type'] = 'without_cache'\n",
    "    df_with_cache['type'] = 'with_cache'\n",
    "    combined_df = pd.concat([df_without_cache, df_with_cache])\n",
    "\n",
    "    # 计算每组的平均时间\n",
    "    average_times = combined_df.groupby(['dimension', 'total_samples', 'type']).agg({'time': 'mean'}).reset_index()\n",
    "    # 重构DataFrame以适应所需的表格格式\n",
    "    pivot_table = average_times.pivot_table(values='time', index=['dimension', 'total_samples'], columns='type')\n",
    "    pivot_table.columns = ['time (with caching)','time (without caching)'] ## 注意with排在前面\n",
    "    pivot_table.reset_index(inplace=True)\n",
    "    \n",
    "    return pivot_table\n",
    "\n",
    "if __name__ == '__main__':\n",
    "    # 计算平均时间\n",
    "    result_table = calculate_average_times(df_without_cache, df_with_cache)\n",
    "\n",
    "    result_table['time (without caching)']  /= 3600\n",
    "    result_table['time (with caching)']  /= 3600\n",
    "\n",
    "    # 输出表格\n",
    "    print(\"Average Time to Calculate the Control Limit:\")\n",
    "    print(result_table.round(4))\n",
    "\n",
    "    # 输出excel表格\n",
    "\n",
    "    \n",
    "    result_table.to_excel('result.xlsx', index=False)"
   ]
  },
  {
   "cell_type": "code",
   "execution_count": null,
   "metadata": {},
   "outputs": [],
   "source": [
    "# 假设 df_without_cache 已经包含相关数据\n",
    "filtered_df = df_without_cache[(df_without_cache['dimension'] == 100) & (df_without_cache['total_samples'] == 50)]\n",
    "# 计算平均运行时间\n",
    "mean_run_time_without_cache = filtered_df['time'].mean()\n",
    "# 转换为微秒每小时单位并保留六位小数\n",
    "# 打印计算的平均值\n",
    "print(f\"Calculated mean run time (without caching) for dimension=1 and total_samples=10: {mean_run_time_without_cache}\")"
   ]
  }
 ],
 "metadata": {
  "kernelspec": {
   "display_name": "base",
   "language": "python",
   "name": "python3"
  },
  "language_info": {
   "codemirror_mode": {
    "name": "ipython",
    "version": 3
   },
   "file_extension": ".py",
   "mimetype": "text/x-python",
   "name": "python",
   "nbconvert_exporter": "python",
   "pygments_lexer": "ipython3",
   "version": "3.11.4"
  },
  "orig_nbformat": 4,
  "vscode": {
   "interpreter": {
    "hash": "ad2bdc8ecc057115af97d19610ffacc2b4e99fae6737bb82f5d7fb13d2f2c186"
   }
  }
 },
 "nbformat": 4,
 "nbformat_minor": 2
}
